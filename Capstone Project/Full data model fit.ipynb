{
 "cells": [
  {
   "cell_type": "code",
   "execution_count": 1,
   "metadata": {
    "collapsed": true
   },
   "outputs": [],
   "source": [
    "import pandas as pd\n",
    "import matplotlib.pyplot as plt\n",
    "import numpy as np\n",
    "import seaborn as sns\n",
    "%matplotlib inline"
   ]
  },
  {
   "cell_type": "code",
   "execution_count": 2,
   "metadata": {},
   "outputs": [
    {
     "name": "stderr",
     "output_type": "stream",
     "text": [
      "C:\\Users\\Will\\Anaconda3\\lib\\site-packages\\IPython\\core\\interactiveshell.py:2717: DtypeWarning: Columns (12,15,16) have mixed types. Specify dtype option on import or set low_memory=False.\n",
      "  interactivity=interactivity, compiler=compiler, result=result)\n"
     ]
    },
    {
     "data": {
      "text/html": [
       "<div>\n",
       "<table border=\"1\" class=\"dataframe\">\n",
       "  <thead>\n",
       "    <tr style=\"text-align: right;\">\n",
       "      <th></th>\n",
       "      <th>SALE_DATE</th>\n",
       "      <th>MODEL_YEAR</th>\n",
       "      <th>MAKE_NAME</th>\n",
       "      <th>MODEL_NAME</th>\n",
       "      <th>VEHICLE_NAME</th>\n",
       "      <th>SEGMENT</th>\n",
       "      <th>DATA_SOURCE</th>\n",
       "      <th>SALE_PRICE_AMOUNT</th>\n",
       "      <th>MSRP_AMOUNT</th>\n",
       "      <th>MILEAGE</th>\n",
       "      <th>...</th>\n",
       "      <th>DRIVETRAIN_DESCRIPTION</th>\n",
       "      <th>BEDLENGTH</th>\n",
       "      <th>BODY_STYLE</th>\n",
       "      <th>CAB_CONFIGURATION</th>\n",
       "      <th>DOOR_COUNT</th>\n",
       "      <th>TRUCK_FLG</th>\n",
       "      <th>TRANSACTION_GEOGRAPHY_ID</th>\n",
       "      <th>CITY_DISPLAY_NAME</th>\n",
       "      <th>STATE</th>\n",
       "      <th>SALE_TYPE</th>\n",
       "    </tr>\n",
       "  </thead>\n",
       "  <tbody>\n",
       "    <tr>\n",
       "      <th>0</th>\n",
       "      <td>2016-12-31</td>\n",
       "      <td>2016</td>\n",
       "      <td>Mazda</td>\n",
       "      <td>CX-5</td>\n",
       "      <td>Sport SUV 4D</td>\n",
       "      <td>Compact SUV Crossover</td>\n",
       "      <td>LUTHER</td>\n",
       "      <td>25095.00</td>\n",
       "      <td>25795</td>\n",
       "      <td>-1</td>\n",
       "      <td>...</td>\n",
       "      <td>AWD</td>\n",
       "      <td>NaN</td>\n",
       "      <td>SUV</td>\n",
       "      <td>NaN</td>\n",
       "      <td>4</td>\n",
       "      <td>NaN</td>\n",
       "      <td>19077</td>\n",
       "      <td>Minneapolis</td>\n",
       "      <td>MN</td>\n",
       "      <td>Retail</td>\n",
       "    </tr>\n",
       "    <tr>\n",
       "      <th>1</th>\n",
       "      <td>2016-12-31</td>\n",
       "      <td>2016</td>\n",
       "      <td>Chevrolet</td>\n",
       "      <td>Silverado 2500 HD Double Cab</td>\n",
       "      <td>LT Pickup 4D 6 1/2 ft</td>\n",
       "      <td>Truck</td>\n",
       "      <td>VIN_SOLUTIONS</td>\n",
       "      <td>42693.00</td>\n",
       "      <td>48830</td>\n",
       "      <td>5</td>\n",
       "      <td>...</td>\n",
       "      <td>4WD</td>\n",
       "      <td>6.50</td>\n",
       "      <td>Pickup</td>\n",
       "      <td>Extended</td>\n",
       "      <td>4</td>\n",
       "      <td>NaN</td>\n",
       "      <td>40840</td>\n",
       "      <td>Saint Croix Falls</td>\n",
       "      <td>WI</td>\n",
       "      <td>Retail</td>\n",
       "    </tr>\n",
       "    <tr>\n",
       "      <th>2</th>\n",
       "      <td>2016-12-31</td>\n",
       "      <td>2016</td>\n",
       "      <td>Ford</td>\n",
       "      <td>Edge</td>\n",
       "      <td>Sport SUV 4D</td>\n",
       "      <td>Midsize SUV Crossover</td>\n",
       "      <td>VIN_SOLUTIONS</td>\n",
       "      <td>46312.89</td>\n",
       "      <td>47755</td>\n",
       "      <td>75</td>\n",
       "      <td>...</td>\n",
       "      <td>AWD</td>\n",
       "      <td>NaN</td>\n",
       "      <td>SUV</td>\n",
       "      <td>NaN</td>\n",
       "      <td>4</td>\n",
       "      <td>NaN</td>\n",
       "      <td>10925</td>\n",
       "      <td>El Paso</td>\n",
       "      <td>IL</td>\n",
       "      <td>Retail</td>\n",
       "    </tr>\n",
       "    <tr>\n",
       "      <th>3</th>\n",
       "      <td>2016-12-31</td>\n",
       "      <td>2017</td>\n",
       "      <td>Ram</td>\n",
       "      <td>2500 Crew Cab</td>\n",
       "      <td>Tradesman Pickup 4D 6 1/3 ft</td>\n",
       "      <td>Truck</td>\n",
       "      <td>VIN_SOLUTIONS</td>\n",
       "      <td>43290.12</td>\n",
       "      <td>45424</td>\n",
       "      <td>13</td>\n",
       "      <td>...</td>\n",
       "      <td>4WD</td>\n",
       "      <td>6.33</td>\n",
       "      <td>Pickup</td>\n",
       "      <td>Crew</td>\n",
       "      <td>4</td>\n",
       "      <td>NaN</td>\n",
       "      <td>22329</td>\n",
       "      <td>Reno</td>\n",
       "      <td>NV</td>\n",
       "      <td>Retail</td>\n",
       "    </tr>\n",
       "    <tr>\n",
       "      <th>4</th>\n",
       "      <td>2016-12-31</td>\n",
       "      <td>2016</td>\n",
       "      <td>Ram</td>\n",
       "      <td>1500 Crew Cab</td>\n",
       "      <td>SLT Pickup 4D 5 1/2 ft</td>\n",
       "      <td>Truck</td>\n",
       "      <td>VIN_SOLUTIONS</td>\n",
       "      <td>39676.87</td>\n",
       "      <td>44665</td>\n",
       "      <td>15</td>\n",
       "      <td>...</td>\n",
       "      <td>2WD</td>\n",
       "      <td>5.50</td>\n",
       "      <td>Pickup</td>\n",
       "      <td>Crew</td>\n",
       "      <td>4</td>\n",
       "      <td>NaN</td>\n",
       "      <td>36423</td>\n",
       "      <td>Arlington</td>\n",
       "      <td>TX</td>\n",
       "      <td>Retail</td>\n",
       "    </tr>\n",
       "  </tbody>\n",
       "</table>\n",
       "<p>5 rows × 29 columns</p>\n",
       "</div>"
      ],
      "text/plain": [
       "   SALE_DATE  MODEL_YEAR  MAKE_NAME                    MODEL_NAME  \\\n",
       "0 2016-12-31        2016      Mazda                          CX-5   \n",
       "1 2016-12-31        2016  Chevrolet  Silverado 2500 HD Double Cab   \n",
       "2 2016-12-31        2016       Ford                          Edge   \n",
       "3 2016-12-31        2017        Ram                 2500 Crew Cab   \n",
       "4 2016-12-31        2016        Ram                 1500 Crew Cab   \n",
       "\n",
       "                   VEHICLE_NAME                SEGMENT    DATA_SOURCE  \\\n",
       "0                  Sport SUV 4D  Compact SUV Crossover         LUTHER   \n",
       "1         LT Pickup 4D 6 1/2 ft                  Truck  VIN_SOLUTIONS   \n",
       "2                  Sport SUV 4D  Midsize SUV Crossover  VIN_SOLUTIONS   \n",
       "3  Tradesman Pickup 4D 6 1/3 ft                  Truck  VIN_SOLUTIONS   \n",
       "4        SLT Pickup 4D 5 1/2 ft                  Truck  VIN_SOLUTIONS   \n",
       "\n",
       "   SALE_PRICE_AMOUNT  MSRP_AMOUNT  MILEAGE    ...     DRIVETRAIN_DESCRIPTION  \\\n",
       "0           25095.00        25795       -1    ...                        AWD   \n",
       "1           42693.00        48830        5    ...                        4WD   \n",
       "2           46312.89        47755       75    ...                        AWD   \n",
       "3           43290.12        45424       13    ...                        4WD   \n",
       "4           39676.87        44665       15    ...                        2WD   \n",
       "\n",
       "  BEDLENGTH BODY_STYLE CAB_CONFIGURATION DOOR_COUNT TRUCK_FLG  \\\n",
       "0       NaN        SUV               NaN          4       NaN   \n",
       "1      6.50     Pickup          Extended          4       NaN   \n",
       "2       NaN        SUV               NaN          4       NaN   \n",
       "3      6.33     Pickup              Crew          4       NaN   \n",
       "4      5.50     Pickup              Crew          4       NaN   \n",
       "\n",
       "  TRANSACTION_GEOGRAPHY_ID  CITY_DISPLAY_NAME STATE SALE_TYPE  \n",
       "0                    19077        Minneapolis    MN    Retail  \n",
       "1                    40840  Saint Croix Falls    WI    Retail  \n",
       "2                    10925            El Paso    IL    Retail  \n",
       "3                    22329               Reno    NV    Retail  \n",
       "4                    36423          Arlington    TX    Retail  \n",
       "\n",
       "[5 rows x 29 columns]"
      ]
     },
     "execution_count": 2,
     "metadata": {},
     "output_type": "execute_result"
    }
   ],
   "source": [
    "df = pd.read_csv('full transactions.csv', parse_dates=['SALE_DATE'])\n",
    "df.head()"
   ]
  },
  {
   "cell_type": "code",
   "execution_count": 3,
   "metadata": {
    "collapsed": true
   },
   "outputs": [],
   "source": [
    "df = (df.rename(columns=str.lower)\n",
    " .drop(['engine_subtype', 'bedlength', 'cab_configuration', 'truck_flg'], axis=1)\n",
    " .dropna(subset=['city_display_name']))"
   ]
  },
  {
   "cell_type": "code",
   "execution_count": 4,
   "metadata": {
    "collapsed": true
   },
   "outputs": [],
   "source": [
    "df.days_in_inventory = df.days_in_inventory.fillna(value=df.days_in_inventory.mean()).astype(int)\n",
    "df.transmission_type = df.transmission_type.fillna(value='Automatic')"
   ]
  },
  {
   "cell_type": "code",
   "execution_count": 5,
   "metadata": {},
   "outputs": [
    {
     "name": "stderr",
     "output_type": "stream",
     "text": [
      "C:\\Users\\Will\\Anaconda3\\lib\\site-packages\\ipykernel\\__main__.py:2: FutureWarning: currently extract(expand=None) means expand=False (return Index/Series/DataFrame) but in a future version of pandas this will be changed to expand=True (return DataFrame)\n",
      "  from ipykernel import kernelapp as app\n"
     ]
    }
   ],
   "source": [
    "cond = (df.transmission_num_of_speeds.isnull()) & (df.transmission_description.str.contains('\\d')) \n",
    "df.loc[cond, 'transmission_num_of_speeds'] = df.loc[cond, 'transmission_description'].str.extract('(\\d)')"
   ]
  },
  {
   "cell_type": "code",
   "execution_count": 6,
   "metadata": {
    "collapsed": true
   },
   "outputs": [],
   "source": [
    "df.transmission_num_of_speeds = df.transmission_num_of_speeds.fillna(1)\n",
    "df = df.loc[df.engine_type != 'Unknown']\n",
    "\n",
    "df.transmission_num_of_speeds = df.transmission_num_of_speeds.astype(int)"
   ]
  },
  {
   "cell_type": "code",
   "execution_count": 7,
   "metadata": {
    "collapsed": true
   },
   "outputs": [],
   "source": [
    "df.loc[df.engine_cylinders.isnull(), ['engine_cylinders']] = 0\n",
    "df.loc[df.engine_displacement.isnull(), 'engine_displacement'] = 0"
   ]
  },
  {
   "cell_type": "code",
   "execution_count": 8,
   "metadata": {
    "collapsed": true
   },
   "outputs": [],
   "source": [
    "df.engine_cylinders = df.engine_cylinders.astype(int)\n",
    "df.engine_displacement = df.engine_displacement.astype(float)"
   ]
  },
  {
   "cell_type": "code",
   "execution_count": 9,
   "metadata": {
    "collapsed": true
   },
   "outputs": [],
   "source": [
    "from sklearn.preprocessing import LabelEncoder\n",
    "\n",
    "le = LabelEncoder()\n",
    "df['transmission_type_le'] = le.fit_transform(df.transmission_type.values)"
   ]
  },
  {
   "cell_type": "code",
   "execution_count": 10,
   "metadata": {},
   "outputs": [
    {
     "data": {
      "text/html": [
       "<div>\n",
       "<table border=\"1\" class=\"dataframe\">\n",
       "  <thead>\n",
       "    <tr style=\"text-align: right;\">\n",
       "      <th></th>\n",
       "      <th>sale_date</th>\n",
       "      <th>model_year</th>\n",
       "      <th>make_name</th>\n",
       "      <th>model_name</th>\n",
       "      <th>vehicle_name</th>\n",
       "      <th>segment</th>\n",
       "      <th>data_source</th>\n",
       "      <th>sale_price_amount</th>\n",
       "      <th>msrp_amount</th>\n",
       "      <th>mileage</th>\n",
       "      <th>...</th>\n",
       "      <th>city_display_name</th>\n",
       "      <th>state</th>\n",
       "      <th>sale_type</th>\n",
       "      <th>transmission_type_le</th>\n",
       "      <th>Diesel</th>\n",
       "      <th>Electric</th>\n",
       "      <th>Flexible Fuel</th>\n",
       "      <th>Gas</th>\n",
       "      <th>Hybrid</th>\n",
       "      <th>Natural Gas</th>\n",
       "    </tr>\n",
       "  </thead>\n",
       "  <tbody>\n",
       "    <tr>\n",
       "      <th>0</th>\n",
       "      <td>2016-12-31</td>\n",
       "      <td>2016</td>\n",
       "      <td>Mazda</td>\n",
       "      <td>CX-5</td>\n",
       "      <td>Sport SUV 4D</td>\n",
       "      <td>Compact SUV Crossover</td>\n",
       "      <td>LUTHER</td>\n",
       "      <td>25095.00</td>\n",
       "      <td>25795</td>\n",
       "      <td>-1</td>\n",
       "      <td>...</td>\n",
       "      <td>Minneapolis</td>\n",
       "      <td>MN</td>\n",
       "      <td>Retail</td>\n",
       "      <td>0</td>\n",
       "      <td>0</td>\n",
       "      <td>0</td>\n",
       "      <td>0</td>\n",
       "      <td>1</td>\n",
       "      <td>0</td>\n",
       "      <td>0</td>\n",
       "    </tr>\n",
       "    <tr>\n",
       "      <th>1</th>\n",
       "      <td>2016-12-31</td>\n",
       "      <td>2016</td>\n",
       "      <td>Chevrolet</td>\n",
       "      <td>Silverado 2500 HD Double Cab</td>\n",
       "      <td>LT Pickup 4D 6 1/2 ft</td>\n",
       "      <td>Truck</td>\n",
       "      <td>VIN_SOLUTIONS</td>\n",
       "      <td>42693.00</td>\n",
       "      <td>48830</td>\n",
       "      <td>5</td>\n",
       "      <td>...</td>\n",
       "      <td>Saint Croix Falls</td>\n",
       "      <td>WI</td>\n",
       "      <td>Retail</td>\n",
       "      <td>0</td>\n",
       "      <td>0</td>\n",
       "      <td>0</td>\n",
       "      <td>1</td>\n",
       "      <td>0</td>\n",
       "      <td>0</td>\n",
       "      <td>0</td>\n",
       "    </tr>\n",
       "    <tr>\n",
       "      <th>2</th>\n",
       "      <td>2016-12-31</td>\n",
       "      <td>2016</td>\n",
       "      <td>Ford</td>\n",
       "      <td>Edge</td>\n",
       "      <td>Sport SUV 4D</td>\n",
       "      <td>Midsize SUV Crossover</td>\n",
       "      <td>VIN_SOLUTIONS</td>\n",
       "      <td>46312.89</td>\n",
       "      <td>47755</td>\n",
       "      <td>75</td>\n",
       "      <td>...</td>\n",
       "      <td>El Paso</td>\n",
       "      <td>IL</td>\n",
       "      <td>Retail</td>\n",
       "      <td>0</td>\n",
       "      <td>0</td>\n",
       "      <td>0</td>\n",
       "      <td>0</td>\n",
       "      <td>1</td>\n",
       "      <td>0</td>\n",
       "      <td>0</td>\n",
       "    </tr>\n",
       "    <tr>\n",
       "      <th>3</th>\n",
       "      <td>2016-12-31</td>\n",
       "      <td>2017</td>\n",
       "      <td>Ram</td>\n",
       "      <td>2500 Crew Cab</td>\n",
       "      <td>Tradesman Pickup 4D 6 1/3 ft</td>\n",
       "      <td>Truck</td>\n",
       "      <td>VIN_SOLUTIONS</td>\n",
       "      <td>43290.12</td>\n",
       "      <td>45424</td>\n",
       "      <td>13</td>\n",
       "      <td>...</td>\n",
       "      <td>Reno</td>\n",
       "      <td>NV</td>\n",
       "      <td>Retail</td>\n",
       "      <td>0</td>\n",
       "      <td>0</td>\n",
       "      <td>0</td>\n",
       "      <td>0</td>\n",
       "      <td>1</td>\n",
       "      <td>0</td>\n",
       "      <td>0</td>\n",
       "    </tr>\n",
       "    <tr>\n",
       "      <th>4</th>\n",
       "      <td>2016-12-31</td>\n",
       "      <td>2016</td>\n",
       "      <td>Ram</td>\n",
       "      <td>1500 Crew Cab</td>\n",
       "      <td>SLT Pickup 4D 5 1/2 ft</td>\n",
       "      <td>Truck</td>\n",
       "      <td>VIN_SOLUTIONS</td>\n",
       "      <td>39676.87</td>\n",
       "      <td>44665</td>\n",
       "      <td>15</td>\n",
       "      <td>...</td>\n",
       "      <td>Arlington</td>\n",
       "      <td>TX</td>\n",
       "      <td>Retail</td>\n",
       "      <td>0</td>\n",
       "      <td>0</td>\n",
       "      <td>0</td>\n",
       "      <td>0</td>\n",
       "      <td>1</td>\n",
       "      <td>0</td>\n",
       "      <td>0</td>\n",
       "    </tr>\n",
       "  </tbody>\n",
       "</table>\n",
       "<p>5 rows × 32 columns</p>\n",
       "</div>"
      ],
      "text/plain": [
       "   sale_date  model_year  make_name                    model_name  \\\n",
       "0 2016-12-31        2016      Mazda                          CX-5   \n",
       "1 2016-12-31        2016  Chevrolet  Silverado 2500 HD Double Cab   \n",
       "2 2016-12-31        2016       Ford                          Edge   \n",
       "3 2016-12-31        2017        Ram                 2500 Crew Cab   \n",
       "4 2016-12-31        2016        Ram                 1500 Crew Cab   \n",
       "\n",
       "                   vehicle_name                segment    data_source  \\\n",
       "0                  Sport SUV 4D  Compact SUV Crossover         LUTHER   \n",
       "1         LT Pickup 4D 6 1/2 ft                  Truck  VIN_SOLUTIONS   \n",
       "2                  Sport SUV 4D  Midsize SUV Crossover  VIN_SOLUTIONS   \n",
       "3  Tradesman Pickup 4D 6 1/3 ft                  Truck  VIN_SOLUTIONS   \n",
       "4        SLT Pickup 4D 5 1/2 ft                  Truck  VIN_SOLUTIONS   \n",
       "\n",
       "   sale_price_amount  msrp_amount  mileage     ...      city_display_name  \\\n",
       "0           25095.00        25795       -1     ...            Minneapolis   \n",
       "1           42693.00        48830        5     ...      Saint Croix Falls   \n",
       "2           46312.89        47755       75     ...                El Paso   \n",
       "3           43290.12        45424       13     ...                   Reno   \n",
       "4           39676.87        44665       15     ...              Arlington   \n",
       "\n",
       "  state  sale_type transmission_type_le Diesel  Electric  Flexible Fuel Gas  \\\n",
       "0    MN     Retail                    0      0         0              0   1   \n",
       "1    WI     Retail                    0      0         0              1   0   \n",
       "2    IL     Retail                    0      0         0              0   1   \n",
       "3    NV     Retail                    0      0         0              0   1   \n",
       "4    TX     Retail                    0      0         0              0   1   \n",
       "\n",
       "  Hybrid Natural Gas  \n",
       "0      0           0  \n",
       "1      0           0  \n",
       "2      0           0  \n",
       "3      0           0  \n",
       "4      0           0  \n",
       "\n",
       "[5 rows x 32 columns]"
      ]
     },
     "execution_count": 10,
     "metadata": {},
     "output_type": "execute_result"
    }
   ],
   "source": [
    "eng_type = pd.get_dummies(df.engine_type)\n",
    "df = pd.concat([df, eng_type], axis=1)\n",
    "df.head()"
   ]
  },
  {
   "cell_type": "code",
   "execution_count": 11,
   "metadata": {
    "collapsed": true
   },
   "outputs": [],
   "source": [
    "df['discount'] = (df.sale_price_amount / df.msrp_amount - 1) * 100"
   ]
  },
  {
   "cell_type": "code",
   "execution_count": 12,
   "metadata": {
    "scrolled": true
   },
   "outputs": [
    {
     "data": {
      "text/plain": [
       "Compact SUV Crossover     67024\n",
       "Midsize SUV Crossover     47569\n",
       "Midsize Car               36745\n",
       "Truck                     35715\n",
       "Compact Car               34033\n",
       "Fullsize SUV Crossover    12624\n",
       "Near Luxury Car            8992\n",
       "Midsize Truck              7278\n",
       "Subcompact Car             6940\n",
       "Minivan                    6696\n",
       "Fullsize Car               5529\n",
       "Midsize Luxury Car         3688\n",
       "Van                        2848\n",
       "Pony Car                   2807\n",
       "Compact Sports Car         2014\n",
       "Compact Luxury Car         1377\n",
       "High End Luxury Car        1282\n",
       "High Performance            972\n",
       "Import Sports Car           928\n",
       "Luxury Roadster             222\n",
       "Sports Car                  164\n",
       "Name: segment, dtype: int64"
      ]
     },
     "execution_count": 12,
     "metadata": {},
     "output_type": "execute_result"
    }
   ],
   "source": [
    "df = df.loc[df.segment != 'Exotic']\n",
    "df.segment.value_counts()"
   ]
  },
  {
   "cell_type": "code",
   "execution_count": 13,
   "metadata": {},
   "outputs": [
    {
     "data": {
      "text/plain": [
       "Index(['sale_date', 'model_year', 'make_name', 'model_name', 'vehicle_name',\n",
       "       'segment', 'data_source', 'sale_price_amount', 'msrp_amount', 'mileage',\n",
       "       'days_in_inventory', 'transmission_description',\n",
       "       'transmission_num_of_speeds', 'transmission_type', 'engine_description',\n",
       "       'engine_cylinders', 'engine_displacement', 'engine_type',\n",
       "       'drivetrain_description', 'body_style', 'door_count',\n",
       "       'transaction_geography_id', 'city_display_name', 'state', 'sale_type',\n",
       "       'transmission_type_le', 'Diesel', 'Electric', 'Flexible Fuel', 'Gas',\n",
       "       'Hybrid', 'Natural Gas', 'discount'],\n",
       "      dtype='object')"
      ]
     },
     "execution_count": 13,
     "metadata": {},
     "output_type": "execute_result"
    }
   ],
   "source": [
    "df.columns"
   ]
  },
  {
   "cell_type": "code",
   "execution_count": 14,
   "metadata": {
    "collapsed": true
   },
   "outputs": [],
   "source": [
    "df = df.loc[df.drivetrain_description != 'Unknown']"
   ]
  },
  {
   "cell_type": "code",
   "execution_count": 15,
   "metadata": {},
   "outputs": [
    {
     "data": {
      "text/plain": [
       "FWD    113223\n",
       "AWD     73239\n",
       "4WD     58569\n",
       "2WD     23493\n",
       "RWD     16920\n",
       "Name: drivetrain_description, dtype: int64"
      ]
     },
     "execution_count": 15,
     "metadata": {},
     "output_type": "execute_result"
    }
   ],
   "source": [
    "df.drivetrain_description.value_counts()"
   ]
  },
  {
   "cell_type": "code",
   "execution_count": 16,
   "metadata": {},
   "outputs": [
    {
     "data": {
      "text/html": [
       "<div>\n",
       "<table border=\"1\" class=\"dataframe\">\n",
       "  <thead>\n",
       "    <tr style=\"text-align: right;\">\n",
       "      <th></th>\n",
       "      <th>sale_date</th>\n",
       "      <th>model_year</th>\n",
       "      <th>make_name</th>\n",
       "      <th>model_name</th>\n",
       "      <th>vehicle_name</th>\n",
       "      <th>segment</th>\n",
       "      <th>data_source</th>\n",
       "      <th>sale_price_amount</th>\n",
       "      <th>msrp_amount</th>\n",
       "      <th>mileage</th>\n",
       "      <th>...</th>\n",
       "      <th>Flexible Fuel</th>\n",
       "      <th>Gas</th>\n",
       "      <th>Hybrid</th>\n",
       "      <th>Natural Gas</th>\n",
       "      <th>discount</th>\n",
       "      <th>2WD</th>\n",
       "      <th>4WD</th>\n",
       "      <th>AWD</th>\n",
       "      <th>FWD</th>\n",
       "      <th>RWD</th>\n",
       "    </tr>\n",
       "  </thead>\n",
       "  <tbody>\n",
       "    <tr>\n",
       "      <th>0</th>\n",
       "      <td>2016-12-31</td>\n",
       "      <td>2016</td>\n",
       "      <td>Mazda</td>\n",
       "      <td>CX-5</td>\n",
       "      <td>Sport SUV 4D</td>\n",
       "      <td>Compact SUV Crossover</td>\n",
       "      <td>LUTHER</td>\n",
       "      <td>25095.00</td>\n",
       "      <td>25795</td>\n",
       "      <td>-1</td>\n",
       "      <td>...</td>\n",
       "      <td>0</td>\n",
       "      <td>1</td>\n",
       "      <td>0</td>\n",
       "      <td>0</td>\n",
       "      <td>-2.713704</td>\n",
       "      <td>0</td>\n",
       "      <td>0</td>\n",
       "      <td>1</td>\n",
       "      <td>0</td>\n",
       "      <td>0</td>\n",
       "    </tr>\n",
       "    <tr>\n",
       "      <th>1</th>\n",
       "      <td>2016-12-31</td>\n",
       "      <td>2016</td>\n",
       "      <td>Chevrolet</td>\n",
       "      <td>Silverado 2500 HD Double Cab</td>\n",
       "      <td>LT Pickup 4D 6 1/2 ft</td>\n",
       "      <td>Truck</td>\n",
       "      <td>VIN_SOLUTIONS</td>\n",
       "      <td>42693.00</td>\n",
       "      <td>48830</td>\n",
       "      <td>5</td>\n",
       "      <td>...</td>\n",
       "      <td>1</td>\n",
       "      <td>0</td>\n",
       "      <td>0</td>\n",
       "      <td>0</td>\n",
       "      <td>-12.568093</td>\n",
       "      <td>0</td>\n",
       "      <td>1</td>\n",
       "      <td>0</td>\n",
       "      <td>0</td>\n",
       "      <td>0</td>\n",
       "    </tr>\n",
       "    <tr>\n",
       "      <th>2</th>\n",
       "      <td>2016-12-31</td>\n",
       "      <td>2016</td>\n",
       "      <td>Ford</td>\n",
       "      <td>Edge</td>\n",
       "      <td>Sport SUV 4D</td>\n",
       "      <td>Midsize SUV Crossover</td>\n",
       "      <td>VIN_SOLUTIONS</td>\n",
       "      <td>46312.89</td>\n",
       "      <td>47755</td>\n",
       "      <td>75</td>\n",
       "      <td>...</td>\n",
       "      <td>0</td>\n",
       "      <td>1</td>\n",
       "      <td>0</td>\n",
       "      <td>0</td>\n",
       "      <td>-3.019809</td>\n",
       "      <td>0</td>\n",
       "      <td>0</td>\n",
       "      <td>1</td>\n",
       "      <td>0</td>\n",
       "      <td>0</td>\n",
       "    </tr>\n",
       "    <tr>\n",
       "      <th>3</th>\n",
       "      <td>2016-12-31</td>\n",
       "      <td>2017</td>\n",
       "      <td>Ram</td>\n",
       "      <td>2500 Crew Cab</td>\n",
       "      <td>Tradesman Pickup 4D 6 1/3 ft</td>\n",
       "      <td>Truck</td>\n",
       "      <td>VIN_SOLUTIONS</td>\n",
       "      <td>43290.12</td>\n",
       "      <td>45424</td>\n",
       "      <td>13</td>\n",
       "      <td>...</td>\n",
       "      <td>0</td>\n",
       "      <td>1</td>\n",
       "      <td>0</td>\n",
       "      <td>0</td>\n",
       "      <td>-4.697693</td>\n",
       "      <td>0</td>\n",
       "      <td>1</td>\n",
       "      <td>0</td>\n",
       "      <td>0</td>\n",
       "      <td>0</td>\n",
       "    </tr>\n",
       "    <tr>\n",
       "      <th>4</th>\n",
       "      <td>2016-12-31</td>\n",
       "      <td>2016</td>\n",
       "      <td>Ram</td>\n",
       "      <td>1500 Crew Cab</td>\n",
       "      <td>SLT Pickup 4D 5 1/2 ft</td>\n",
       "      <td>Truck</td>\n",
       "      <td>VIN_SOLUTIONS</td>\n",
       "      <td>39676.87</td>\n",
       "      <td>44665</td>\n",
       "      <td>15</td>\n",
       "      <td>...</td>\n",
       "      <td>0</td>\n",
       "      <td>1</td>\n",
       "      <td>0</td>\n",
       "      <td>0</td>\n",
       "      <td>-11.167872</td>\n",
       "      <td>1</td>\n",
       "      <td>0</td>\n",
       "      <td>0</td>\n",
       "      <td>0</td>\n",
       "      <td>0</td>\n",
       "    </tr>\n",
       "  </tbody>\n",
       "</table>\n",
       "<p>5 rows × 38 columns</p>\n",
       "</div>"
      ],
      "text/plain": [
       "   sale_date  model_year  make_name                    model_name  \\\n",
       "0 2016-12-31        2016      Mazda                          CX-5   \n",
       "1 2016-12-31        2016  Chevrolet  Silverado 2500 HD Double Cab   \n",
       "2 2016-12-31        2016       Ford                          Edge   \n",
       "3 2016-12-31        2017        Ram                 2500 Crew Cab   \n",
       "4 2016-12-31        2016        Ram                 1500 Crew Cab   \n",
       "\n",
       "                   vehicle_name                segment    data_source  \\\n",
       "0                  Sport SUV 4D  Compact SUV Crossover         LUTHER   \n",
       "1         LT Pickup 4D 6 1/2 ft                  Truck  VIN_SOLUTIONS   \n",
       "2                  Sport SUV 4D  Midsize SUV Crossover  VIN_SOLUTIONS   \n",
       "3  Tradesman Pickup 4D 6 1/3 ft                  Truck  VIN_SOLUTIONS   \n",
       "4        SLT Pickup 4D 5 1/2 ft                  Truck  VIN_SOLUTIONS   \n",
       "\n",
       "   sale_price_amount  msrp_amount  mileage ...  Flexible Fuel Gas  Hybrid  \\\n",
       "0           25095.00        25795       -1 ...              0   1       0   \n",
       "1           42693.00        48830        5 ...              1   0       0   \n",
       "2           46312.89        47755       75 ...              0   1       0   \n",
       "3           43290.12        45424       13 ...              0   1       0   \n",
       "4           39676.87        44665       15 ...              0   1       0   \n",
       "\n",
       "  Natural Gas   discount  2WD  4WD AWD FWD RWD  \n",
       "0           0  -2.713704    0    0   1   0   0  \n",
       "1           0 -12.568093    0    1   0   0   0  \n",
       "2           0  -3.019809    0    0   1   0   0  \n",
       "3           0  -4.697693    0    1   0   0   0  \n",
       "4           0 -11.167872    1    0   0   0   0  \n",
       "\n",
       "[5 rows x 38 columns]"
      ]
     },
     "execution_count": 16,
     "metadata": {},
     "output_type": "execute_result"
    }
   ],
   "source": [
    "drivetrain_type = pd.get_dummies(df.drivetrain_description)\n",
    "df = pd.concat([df, drivetrain_type], axis=1)\n",
    "df.head()"
   ]
  },
  {
   "cell_type": "code",
   "execution_count": 17,
   "metadata": {
    "collapsed": true
   },
   "outputs": [],
   "source": [
    "cols = ['4WD','AWD','FWD','RWD','2WD','Diesel','Electric','Flexible Fuel', 'Gas', 'Hybrid','transmission_type_le', 'door_count', 'engine_displacement', 'engine_cylinders', 'days_in_inventory', 'transmission_num_of_speeds','mileage', 'msrp_amount', 'model_year', 'sale_price_amount']"
   ]
  },
  {
   "cell_type": "code",
   "execution_count": 18,
   "metadata": {},
   "outputs": [
    {
     "data": {
      "image/png": "[encoded data removed]",
      "text/plain": [
       "<matplotlib.figure.Figure at 0x1eae2887cc0>"
      ]
     },
     "metadata": {},
     "output_type": "display_data"
    }
   ],
   "source": [
    "cm = np.corrcoef(df[cols].values.T)\n",
    "sns.set(font_scale=1.25)\n",
    "plt.rcParams['figure.figsize']=(12,8)\n",
    "hm = sns.heatmap(cm,\n",
    "                cbar=True,\n",
    "                annot=True,\n",
    "                fmt='.2f',\n",
    "                annot_kws={'size': 10},\n",
    "                yticklabels=cols,\n",
    "                xticklabels=cols)"
   ]
  },
  {
   "cell_type": "code",
   "execution_count": 19,
   "metadata": {},
   "outputs": [
    {
     "data": {
      "text/html": [
       "<div>\n",
       "<table border=\"1\" class=\"dataframe\">\n",
       "  <thead>\n",
       "    <tr style=\"text-align: right;\">\n",
       "      <th></th>\n",
       "      <th>4WD</th>\n",
       "      <th>AWD</th>\n",
       "      <th>FWD</th>\n",
       "      <th>RWD</th>\n",
       "      <th>2WD</th>\n",
       "      <th>Diesel</th>\n",
       "      <th>Electric</th>\n",
       "      <th>Flexible Fuel</th>\n",
       "      <th>Gas</th>\n",
       "      <th>Hybrid</th>\n",
       "      <th>transmission_type_le</th>\n",
       "      <th>door_count</th>\n",
       "      <th>engine_displacement</th>\n",
       "      <th>engine_cylinders</th>\n",
       "      <th>days_in_inventory</th>\n",
       "      <th>transmission_num_of_speeds</th>\n",
       "      <th>mileage</th>\n",
       "      <th>msrp_amount</th>\n",
       "      <th>model_year</th>\n",
       "      <th>sale_price_amount</th>\n",
       "    </tr>\n",
       "  </thead>\n",
       "  <tbody>\n",
       "    <tr>\n",
       "      <th>0</th>\n",
       "      <td>0</td>\n",
       "      <td>1</td>\n",
       "      <td>0</td>\n",
       "      <td>0</td>\n",
       "      <td>0</td>\n",
       "      <td>0</td>\n",
       "      <td>0</td>\n",
       "      <td>0</td>\n",
       "      <td>1</td>\n",
       "      <td>0</td>\n",
       "      <td>0</td>\n",
       "      <td>4</td>\n",
       "      <td>2.5</td>\n",
       "      <td>4</td>\n",
       "      <td>32</td>\n",
       "      <td>6</td>\n",
       "      <td>-1</td>\n",
       "      <td>25795</td>\n",
       "      <td>2016</td>\n",
       "      <td>25095.00</td>\n",
       "    </tr>\n",
       "    <tr>\n",
       "      <th>1</th>\n",
       "      <td>1</td>\n",
       "      <td>0</td>\n",
       "      <td>0</td>\n",
       "      <td>0</td>\n",
       "      <td>0</td>\n",
       "      <td>0</td>\n",
       "      <td>0</td>\n",
       "      <td>1</td>\n",
       "      <td>0</td>\n",
       "      <td>0</td>\n",
       "      <td>0</td>\n",
       "      <td>4</td>\n",
       "      <td>6.0</td>\n",
       "      <td>8</td>\n",
       "      <td>108</td>\n",
       "      <td>6</td>\n",
       "      <td>5</td>\n",
       "      <td>48830</td>\n",
       "      <td>2016</td>\n",
       "      <td>42693.00</td>\n",
       "    </tr>\n",
       "    <tr>\n",
       "      <th>2</th>\n",
       "      <td>0</td>\n",
       "      <td>1</td>\n",
       "      <td>0</td>\n",
       "      <td>0</td>\n",
       "      <td>0</td>\n",
       "      <td>0</td>\n",
       "      <td>0</td>\n",
       "      <td>0</td>\n",
       "      <td>1</td>\n",
       "      <td>0</td>\n",
       "      <td>0</td>\n",
       "      <td>4</td>\n",
       "      <td>2.7</td>\n",
       "      <td>6</td>\n",
       "      <td>0</td>\n",
       "      <td>6</td>\n",
       "      <td>75</td>\n",
       "      <td>47755</td>\n",
       "      <td>2016</td>\n",
       "      <td>46312.89</td>\n",
       "    </tr>\n",
       "    <tr>\n",
       "      <th>3</th>\n",
       "      <td>1</td>\n",
       "      <td>0</td>\n",
       "      <td>0</td>\n",
       "      <td>0</td>\n",
       "      <td>0</td>\n",
       "      <td>0</td>\n",
       "      <td>0</td>\n",
       "      <td>0</td>\n",
       "      <td>1</td>\n",
       "      <td>0</td>\n",
       "      <td>0</td>\n",
       "      <td>4</td>\n",
       "      <td>6.4</td>\n",
       "      <td>8</td>\n",
       "      <td>19</td>\n",
       "      <td>6</td>\n",
       "      <td>13</td>\n",
       "      <td>45424</td>\n",
       "      <td>2017</td>\n",
       "      <td>43290.12</td>\n",
       "    </tr>\n",
       "    <tr>\n",
       "      <th>4</th>\n",
       "      <td>0</td>\n",
       "      <td>0</td>\n",
       "      <td>0</td>\n",
       "      <td>0</td>\n",
       "      <td>1</td>\n",
       "      <td>0</td>\n",
       "      <td>0</td>\n",
       "      <td>0</td>\n",
       "      <td>1</td>\n",
       "      <td>0</td>\n",
       "      <td>0</td>\n",
       "      <td>4</td>\n",
       "      <td>5.7</td>\n",
       "      <td>8</td>\n",
       "      <td>36</td>\n",
       "      <td>8</td>\n",
       "      <td>15</td>\n",
       "      <td>44665</td>\n",
       "      <td>2016</td>\n",
       "      <td>39676.87</td>\n",
       "    </tr>\n",
       "  </tbody>\n",
       "</table>\n",
       "</div>"
      ],
      "text/plain": [
       "   4WD  AWD  FWD  RWD  2WD  Diesel  Electric  Flexible Fuel  Gas  Hybrid  \\\n",
       "0    0    1    0    0    0       0         0              0    1       0   \n",
       "1    1    0    0    0    0       0         0              1    0       0   \n",
       "2    0    1    0    0    0       0         0              0    1       0   \n",
       "3    1    0    0    0    0       0         0              0    1       0   \n",
       "4    0    0    0    0    1       0         0              0    1       0   \n",
       "\n",
       "   transmission_type_le  door_count  engine_displacement  engine_cylinders  \\\n",
       "0                     0           4                  2.5                 4   \n",
       "1                     0           4                  6.0                 8   \n",
       "2                     0           4                  2.7                 6   \n",
       "3                     0           4                  6.4                 8   \n",
       "4                     0           4                  5.7                 8   \n",
       "\n",
       "   days_in_inventory  transmission_num_of_speeds  mileage  msrp_amount  \\\n",
       "0                 32                           6       -1        25795   \n",
       "1                108                           6        5        48830   \n",
       "2                  0                           6       75        47755   \n",
       "3                 19                           6       13        45424   \n",
       "4                 36                           8       15        44665   \n",
       "\n",
       "   model_year  sale_price_amount  \n",
       "0        2016           25095.00  \n",
       "1        2016           42693.00  \n",
       "2        2016           46312.89  \n",
       "3        2017           43290.12  \n",
       "4        2016           39676.87  "
      ]
     },
     "execution_count": 19,
     "metadata": {},
     "output_type": "execute_result"
    }
   ],
   "source": [
    "df[cols].head()"
   ]
  },
  {
   "cell_type": "markdown",
   "metadata": {},
   "source": [
    "## Linear Regression Model"
   ]
  },
  {
   "cell_type": "code",
   "execution_count": 20,
   "metadata": {},
   "outputs": [
    {
     "data": {
      "text/plain": [
       "LinearRegression(copy_X=True, fit_intercept=True, n_jobs=1, normalize=False)"
      ]
     },
     "execution_count": 20,
     "metadata": {},
     "output_type": "execute_result"
    }
   ],
   "source": [
    "from sklearn.model_selection import train_test_split\n",
    "from sklearn.linear_model import LinearRegression, Ridge, RidgeCV, Lasso, LassoCV\n",
    "from sklearn.metrics import mean_squared_error\n",
    "\n",
    "X = df[cols].iloc[:, :-1]\n",
    "y = df['sale_price_amount']\n",
    "\n",
    "Xtrain, Xtest, ytrain, ytest = train_test_split(X, y, test_size=0.3, random_state=0)\n",
    "slr = LinearRegression()\n",
    "slr.fit(Xtrain, ytrain)\n",
    "y_train_pred = slr.predict(Xtrain)\n",
    "y_test_pred = slr.predict(Xtest)"
   ]
  },
  {
   "cell_type": "code",
   "execution_count": 21,
   "metadata": {},
   "outputs": [
    {
     "name": "stdout",
     "output_type": "stream",
     "text": [
      "MSE train: 2903964.997, test: 2859187.354\n"
     ]
    }
   ],
   "source": [
    "print('MSE train: {:.3f}, test: {:.3f}'.format(mean_squared_error(ytrain, y_train_pred), mean_squared_error(ytest, y_test_pred)))"
   ]
  },
  {
   "cell_type": "code",
   "execution_count": 22,
   "metadata": {},
   "outputs": [
    {
     "name": "stdout",
     "output_type": "stream",
     "text": [
      "R^2 train: 0.988, test: 0.987\n"
     ]
    }
   ],
   "source": [
    "from sklearn.metrics import r2_score\n",
    "print('R^2 train: {:.3f}, test: {:.3f}'.format(r2_score(ytrain, y_train_pred), r2_score(ytest, y_test_pred)))"
   ]
  },
  {
   "cell_type": "markdown",
   "metadata": {},
   "source": [
    "## Ridge Regression Model"
   ]
  },
  {
   "cell_type": "code",
   "execution_count": 23,
   "metadata": {},
   "outputs": [
    {
     "data": {
      "text/plain": [
       "RidgeCV(alphas=array([  5.00000e+09,   3.78232e+09, ...,   6.60971e-03,   5.00000e-03]),\n",
       "    cv=None, fit_intercept=True, gcv_mode=None, normalize=False,\n",
       "    scoring=None, store_cv_values=False)"
      ]
     },
     "execution_count": 23,
     "metadata": {},
     "output_type": "execute_result"
    },
    {
     "data": {
      "text/plain": [
       "12.385381779958569"
      ]
     },
     "execution_count": 23,
     "metadata": {},
     "output_type": "execute_result"
    }
   ],
   "source": [
    "alphas = 10**np.linspace(10,-2,100)*0.5\n",
    "ridgecv = RidgeCV(alphas=alphas)\n",
    "ridgecv.fit(Xtrain, ytrain)\n",
    "ridgecv.alpha_"
   ]
  },
  {
   "cell_type": "code",
   "execution_count": 24,
   "metadata": {},
   "outputs": [
    {
     "data": {
      "text/plain": [
       "Ridge(alpha=12.385381779958569, copy_X=True, fit_intercept=True,\n",
       "   max_iter=None, normalize=False, random_state=None, solver='auto',\n",
       "   tol=0.001)"
      ]
     },
     "execution_count": 24,
     "metadata": {},
     "output_type": "execute_result"
    },
    {
     "name": "stdout",
     "output_type": "stream",
     "text": [
      "Ridge MSE train: 2903966.028, test: 2859186.698\n"
     ]
    }
   ],
   "source": [
    "ridge2 = Ridge(alpha=ridgecv.alpha_)\n",
    "ridge2.fit(Xtrain, ytrain)\n",
    "print('Ridge MSE train: {:.3f}, test: {:.3f}'.format(mean_squared_error(ytrain, ridge2.predict(Xtrain)),\n",
    "                                              mean_squared_error(ytest, ridge2.predict(Xtest))))"
   ]
  },
  {
   "cell_type": "markdown",
   "metadata": {},
   "source": [
    "## LASSO Regression Model"
   ]
  },
  {
   "cell_type": "code",
   "execution_count": 25,
   "metadata": {},
   "outputs": [
    {
     "data": {
      "text/plain": [
       "LassoCV(alphas=array([  5.00000e+09,   3.78232e+09, ...,   6.60971e-03,   5.00000e-03]),\n",
       "    copy_X=True, cv=10, eps=0.001, fit_intercept=True, max_iter=10000,\n",
       "    n_alphas=100, n_jobs=1, normalize=False, positive=False,\n",
       "    precompute='auto', random_state=None, selection='cyclic', tol=0.0001,\n",
       "    verbose=False)"
      ]
     },
     "execution_count": 25,
     "metadata": {},
     "output_type": "execute_result"
    },
    {
     "data": {
      "text/plain": [
       "0.011550648500415791"
      ]
     },
     "execution_count": 25,
     "metadata": {},
     "output_type": "execute_result"
    }
   ],
   "source": [
    "lassocv2 = LassoCV(alphas=alphas, cv=10, max_iter=10000)\n",
    "lassocv2.fit(Xtrain, ytrain)\n",
    "lassocv2.alpha_"
   ]
  },
  {
   "cell_type": "code",
   "execution_count": 26,
   "metadata": {},
   "outputs": [
    {
     "data": {
      "text/plain": [
       "Lasso(alpha=0.011550648500415791, copy_X=True, fit_intercept=True,\n",
       "   max_iter=10000, normalize=False, positive=False, precompute=False,\n",
       "   random_state=None, selection='cyclic', tol=0.0001, warm_start=False)"
      ]
     },
     "execution_count": 26,
     "metadata": {},
     "output_type": "execute_result"
    },
    {
     "name": "stdout",
     "output_type": "stream",
     "text": [
      "LASSO MSE train: 2903965.085, test: 2859186.728\n"
     ]
    }
   ],
   "source": [
    "lasso2 = Lasso(alpha=lassocv2.alpha_, max_iter=10000)\n",
    "lasso2.fit(Xtrain, ytrain)\n",
    "print('LASSO MSE train: {:.3f}, test: {:.3f}'.format(mean_squared_error(ytrain, lasso2.predict(Xtrain)),\n",
    "                                                    mean_squared_error(ytest, lasso2.predict(Xtest))))"
   ]
  },
  {
   "cell_type": "code",
   "execution_count": 30,
   "metadata": {},
   "outputs": [
    {
     "data": {
      "text/plain": [
       "4WD                           134.312974\n",
       "AWD                           155.637512\n",
       "FWD                          -171.283985\n",
       "RWD                          -988.327663\n",
       "2WD                             0.000000\n",
       "Diesel                         -0.000000\n",
       "Electric                     -836.053405\n",
       "Flexible Fuel                 242.123034\n",
       "Gas                            88.873518\n",
       "Hybrid                       -116.268998\n",
       "transmission_type_le          185.296306\n",
       "door_count                   -357.216018\n",
       "engine_displacement          -152.922318\n",
       "engine_cylinders               50.302620\n",
       "days_in_inventory              -1.411642\n",
       "transmission_num_of_speeds     51.426777\n",
       "mileage                         0.029674\n",
       "msrp_amount                     0.933077\n",
       "model_year                    212.811026\n",
       "dtype: float64"
      ]
     },
     "execution_count": 30,
     "metadata": {},
     "output_type": "execute_result"
    }
   ],
   "source": [
    "pd.Series(lasso2.coef_, index=X.columns)"
   ]
  },
  {
   "cell_type": "code",
   "execution_count": 27,
   "metadata": {
    "collapsed": true
   },
   "outputs": [
    {
     "data": {
      "text/plain": [
       "LassoCV(alphas=None, copy_X=True, cv=10, eps=0.001, fit_intercept=True,\n",
       "    max_iter=10000, n_alphas=100, n_jobs=1, normalize=False,\n",
       "    positive=False, precompute='auto', random_state=None,\n",
       "    selection='cyclic', tol=0.0001, verbose=False)"
      ]
     },
     "execution_count": 27,
     "metadata": {},
     "output_type": "execute_result"
    },
    {
     "name": "stdout",
     "output_type": "stream",
     "text": [
      "Cross validated alpha: 247876.927\n"
     ]
    }
   ],
   "source": [
    "lassocv = LassoCV(alphas=None, cv=10, max_iter=10000)\n",
    "lassocv.fit(Xtrain, ytrain)\n",
    "print('Cross validated alpha: {:.3f}'.format(lassocv.alpha_))"
   ]
  },
  {
   "cell_type": "code",
   "execution_count": 28,
   "metadata": {
    "collapsed": true
   },
   "outputs": [
    {
     "data": {
      "text/plain": [
       "Lasso(alpha=247876.92721978045, copy_X=True, fit_intercept=True,\n",
       "   max_iter=10000, normalize=False, positive=False, precompute=False,\n",
       "   random_state=None, selection='cyclic', tol=0.0001, warm_start=False)"
      ]
     },
     "execution_count": 28,
     "metadata": {},
     "output_type": "execute_result"
    },
    {
     "name": "stdout",
     "output_type": "stream",
     "text": [
      "LASSO MSE train: 3022704.257, test: 2982262.772\n"
     ]
    }
   ],
   "source": [
    "lasso = Lasso(alpha=lassocv.alpha_, max_iter=10000)\n",
    "lasso.fit(Xtrain, ytrain)\n",
    "print('LASSO MSE train: {:.3f}, test: {:.3f}'.format(mean_squared_error(ytrain, lasso.predict(Xtrain)),\n",
    "                                                    mean_squared_error(ytest, lasso.predict(Xtest))))"
   ]
  },
  {
   "cell_type": "code",
   "execution_count": 29,
   "metadata": {
    "collapsed": true
   },
   "outputs": [
    {
     "data": {
      "text/plain": [
       "4WD                           0.000000\n",
       "AWD                           0.000000\n",
       "FWD                          -0.000000\n",
       "RWD                          -0.000000\n",
       "2WD                          -0.000000\n",
       "Diesel                       -0.000000\n",
       "Electric                     -0.000000\n",
       "Flexible Fuel                 0.000000\n",
       "Gas                           0.000000\n",
       "Hybrid                       -0.000000\n",
       "transmission_type_le          0.000000\n",
       "door_count                   -0.000000\n",
       "engine_displacement          -0.000000\n",
       "engine_cylinders             -0.000000\n",
       "days_in_inventory            -0.000000\n",
       "transmission_num_of_speeds    0.000000\n",
       "mileage                      -0.000000\n",
       "msrp_amount                   0.933209\n",
       "model_year                    0.000000\n",
       "dtype: float64"
      ]
     },
     "execution_count": 29,
     "metadata": {},
     "output_type": "execute_result"
    }
   ],
   "source": [
    "pd.Series(lasso.coef_, index=X.columns)"
   ]
  },
  {
   "cell_type": "markdown",
   "metadata": {},
   "source": [
    "## Elastic Net Regression Model"
   ]
  },
  {
   "cell_type": "code",
   "execution_count": 40,
   "metadata": {},
   "outputs": [
    {
     "data": {
      "text/plain": [
       "ElasticNetCV(alphas=array([  5.00000e+09,   3.78232e+09, ...,   6.60971e-03,   5.00000e-03]),\n",
       "       copy_X=True, cv=10, eps=0.001, fit_intercept=True,\n",
       "       l1_ratio=[0.1, 0.5, 0.9, 0.95, 0.99, 1], max_iter=10000,\n",
       "       n_alphas=100, n_jobs=1, normalize=False, positive=False,\n",
       "       precompute='auto', random_state=None, selection='cyclic',\n",
       "       tol=0.0001, verbose=0)"
      ]
     },
     "execution_count": 40,
     "metadata": {},
     "output_type": "execute_result"
    },
    {
     "name": "stdout",
     "output_type": "stream",
     "text": [
      "Alpha: 0.009, l1 ratio: 0.990\n"
     ]
    }
   ],
   "source": [
    "from sklearn.linear_model import ElasticNet, ElasticNetCV\n",
    "l1_ratio = [.1, .5, .9, .95, .99, 1]\n",
    "enetcv = ElasticNetCV(l1_ratio=l1_ratio, alphas=alphas, cv=10, max_iter=10000)\n",
    "enetcv.fit(Xtrain, ytrain)\n",
    "print('Alpha: {:.3f}, l1 ratio: {:.3f}'.format(enetcv.alpha_, enetcv.l1_ratio_))"
   ]
  },
  {
   "cell_type": "code",
   "execution_count": 41,
   "metadata": {},
   "outputs": [
    {
     "data": {
      "text/plain": [
       "ElasticNet(alpha=0.008737642000038414, copy_X=True, fit_intercept=True,\n",
       "      l1_ratio=0.98999999999999999, max_iter=10000, normalize=False,\n",
       "      positive=False, precompute=False, random_state=None,\n",
       "      selection='cyclic', tol=0.0001, warm_start=False)"
      ]
     },
     "execution_count": 41,
     "metadata": {},
     "output_type": "execute_result"
    },
    {
     "name": "stdout",
     "output_type": "stream",
     "text": [
      "Elastic Net MSE train: 2903967.540, test: 2859187.646\n"
     ]
    }
   ],
   "source": [
    "enet = ElasticNet(alpha=enetcv.alpha_, l1_ratio=enetcv.l1_ratio_, max_iter=10000)\n",
    "enet.fit(Xtrain, ytrain)\n",
    "print('Elastic Net MSE train: {:.3f}, test: {:.3f}'.format(mean_squared_error(ytrain, enet.predict(Xtrain)),\n",
    "                                                          mean_squared_error(ytest, enet.predict(Xtest))))"
   ]
  },
  {
   "cell_type": "markdown",
   "metadata": {},
   "source": [
    "## Parametrize Regression Methods"
   ]
  },
  {
   "cell_type": "code",
   "execution_count": 49,
   "metadata": {},
   "outputs": [],
   "source": [
    "from sklearn.model_selection import cross_val_score"
   ]
  },
  {
   "cell_type": "code",
   "execution_count": 52,
   "metadata": {},
   "outputs": [
    {
     "data": {
      "text/plain": [
       "-2895527.8451076825"
      ]
     },
     "execution_count": 52,
     "metadata": {},
     "output_type": "execute_result"
    }
   ],
   "source": [
    "np.mean(cross_val_score(ElasticNet(alpha=enetcv.alpha_, l1_ratio=enetcv.l1_ratio_), X, y, scoring='neg_mean_squared_error', cv=10))"
   ]
  },
  {
   "cell_type": "markdown",
   "metadata": {
    "collapsed": true
   },
   "source": [
    "### Dropping MSRP and Engine Cylinders/Displacement"
   ]
  },
  {
   "cell_type": "code",
   "execution_count": 38,
   "metadata": {},
   "outputs": [],
   "source": [
    "no_msrp_cyl = [i for i in cols if i not in ['msrp_amount','engine_cylinders']]\n",
    "no_msrp_disp = [i for i in cols if i not in ['msrp_amount', 'engine_displacement']]"
   ]
  },
  {
   "cell_type": "code",
   "execution_count": null,
   "metadata": {
    "collapsed": true
   },
   "outputs": [],
   "source": []
  },
  {
   "cell_type": "code",
   "execution_count": null,
   "metadata": {
    "collapsed": true
   },
   "outputs": [],
   "source": []
  }
 ],
 "metadata": {
  "kernelspec": {
   "display_name": "Python [conda root]",
   "language": "python",
   "name": "conda-root-py"
  },
  "language_info": {
   "codemirror_mode": {
    "name": "ipython",
    "version": 3
   },
   "file_extension": ".py",
   "mimetype": "text/x-python",
   "name": "python",
   "nbconvert_exporter": "python",
   "pygments_lexer": "ipython3",
   "version": "3.5.2"
  }
 },
 "nbformat": 4,
 "nbformat_minor": 2
}
